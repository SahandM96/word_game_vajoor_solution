{
 "cells": [
  {
   "cell_type": "code",
   "execution_count": 116,
   "id": "f3ad83ed",
   "metadata": {},
   "outputs": [
    {
     "data": {
      "text/plain": [
       "10802"
      ]
     },
     "execution_count": 116,
     "metadata": {},
     "output_type": "execute_result"
    }
   ],
   "source": [
    "import pandas as pd\n",
    "import numpy as np\n",
    "import matplotlib.pyplot as plt\n",
    "words = open(\"dirty_words.txt\",\"r+\")\n",
    "words_dirt = []\n",
    "for item in words.readlines():\n",
    "    words_dirt.append(str(item).strip())\n",
    "lenF=[]\n",
    "for word in words_dirt:\n",
    "    word=str(word).strip()\n",
    "    if(len(word)==5):\n",
    "        lenF.append(word)\n",
    "len(lenF)"
   ]
  },
  {
   "cell_type": "code",
   "execution_count": 117,
   "id": "193c6232",
   "metadata": {},
   "outputs": [
    {
     "data": {
      "text/plain": [
       "8259"
      ]
     },
     "execution_count": 117,
     "metadata": {},
     "output_type": "execute_result"
    }
   ],
   "source": [
    "\n",
    "duplicated_list = lenF\n",
    "deduplicated_list = list()\n",
    "\n",
    "for item in duplicated_list:\n",
    "    if item not in deduplicated_list:\n",
    "        deduplicated_list.append(item)\n",
    "len(deduplicated_list)\n"
   ]
  },
  {
   "cell_type": "code",
   "execution_count": 128,
   "id": "36a7da93",
   "metadata": {},
   "outputs": [
    {
     "name": "stdout",
     "output_type": "stream",
     "text": [
      "رتبتش\n",
      "رفتند\n",
      "رفلکس\n",
      "رگرفت\n",
      "رنجبر\n",
      "رحمدل\n",
      "رسددر\n",
      "رپرتر\n",
      "ردشدن\n",
      "رفتگر\n"
     ]
    }
   ],
   "source": [
    "for item in deduplicated_list:\n",
    "    if item[0]==\"ر\"and not str(item).__contains__(\"ا\")and not str(item).__contains__(\"ه\")and not str(item).__contains__(\"و\")and not str(item).__contains__(\"ز\")and not str(item).__contains__(\"ی\"):\n",
    "        print(item)"
   ]
  }
 ],
 "metadata": {
  "kernelspec": {
   "display_name": "Python 3 (ipykernel)",
   "language": "python",
   "name": "python3"
  },
  "language_info": {
   "codemirror_mode": {
    "name": "ipython",
    "version": 3
   },
   "file_extension": ".py",
   "mimetype": "text/x-python",
   "name": "python",
   "nbconvert_exporter": "python",
   "pygments_lexer": "ipython3",
   "version": "3.10.1"
  }
 },
 "nbformat": 4,
 "nbformat_minor": 5
}
