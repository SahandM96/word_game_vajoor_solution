{
 "cells": [
  {
   "cell_type": "markdown",
   "id": "ac69e33b",
   "metadata": {},
   "source": [
    "# حل بازی واجور"
   ]
  },
  {
   "cell_type": "code",
   "execution_count": 61,
   "id": "ab505870",
   "metadata": {},
   "outputs": [],
   "source": [
    "words = open(\"Amirza.txt\",\"r+\")\n",
    "amirzaList = list()\n",
    "amirzaD=list()\n",
    "for item in words.readlines():\n",
    "    amirzaD.append(item)\n",
    "    if item not in amirzaList:\n",
    "        amirzaList.append(item)"
   ]
  },
  {
   "cell_type": "code",
   "execution_count": 63,
   "id": "3c96a9d1",
   "metadata": {},
   "outputs": [],
   "source": [
    "dirtyWords = open(\"dirty_words.txt\",\"r+\")\n",
    "dirtyList=list()\n",
    "for item in dirtyWords.readlines():\n",
    "    if(word).__contains__(\"\\u200f\"):\n",
    "        continue\n",
    "    dirtyList.append(str(item).strip())\n",
    "\n",
    "clearWords = open(\"clean.txt\",\"r+\")\n",
    "clearList=list()\n",
    "for item in clearWords.readlines():\n",
    "    if(word).__contains__(\"\\u200f\"):\n",
    "        continue\n",
    "    clearList.append(str(item).strip())\n",
    "\n",
    "unclearWords = open(\"unclean.txt\",\"r+\")\n",
    "unclearList=list()\n",
    "for item in unclearWords.readlines():\n",
    "    if(word).__contains__(\"\\u200f\"):\n",
    "        continue\n",
    "    unclearList.append(str(item).strip())\n",
    "    \n",
    "duplicated_list = dirtyList+amirzaList+clearList+unclearList\n"
   ]
  },
  {
   "cell_type": "code",
   "execution_count": 64,
   "id": "13d6b67a",
   "metadata": {},
   "outputs": [],
   "source": [
    "\n",
    "dublicated_list_of_Five = list()\n",
    "for item in duplicated_list:\n",
    "    item=str(item).strip()\n",
    "    if len(item)==5:\n",
    "        dublicated_list_of_Five.append(item)\n",
    "\n",
    "deduplicated_list = list()\n",
    "\n",
    "\n",
    "file2=open(\"clearListOfFive.txt\",\"w+\")\n",
    "\n",
    "for item in dublicated_list_of_Five:\n",
    "    if item not in deduplicated_list:\n",
    "        file2.writelines(item+\"\\n\")\n",
    "        deduplicated_list.append(item)\n",
    "\n",
    "        \n",
    "dirtyWords.close()\n",
    "clearWords.close()\n",
    "unclearWords.close()\n",
    "file2.close()\n"
   ]
  },
  {
   "cell_type": "code",
   "execution_count": 81,
   "id": "557c0efb",
   "metadata": {},
   "outputs": [],
   "source": [
    "cl = open(\"clearListOfFive.txt\",\"r+\")\n",
    "deduplicated_list=list()\n",
    "for item in cl.readlines():\n",
    "    deduplicated_list.append(str(item).strip())\n",
    "\n",
    "def replacer(lister,i,j):\n",
    "    empList=[]\n",
    "    for item in lister:\n",
    "        if item[i]==j:\n",
    "            empList.append(item)\n",
    "    return empList\n",
    "\n",
    "def noReplacer(lister,i,j):\n",
    "    empList=[]\n",
    "    for item in lister:\n",
    "        if not item[i]==j:\n",
    "            empList.append(item)\n",
    "    return empList\n",
    "def remover(lister,i):\n",
    "    empList=[]\n",
    "    for item in lister:\n",
    "        if not str(item).__contains__(i):\n",
    "            empList.append(item)\n",
    "    return empList\n",
    "def appender(lister,i):\n",
    "    empList=[]\n",
    "    for item in lister:\n",
    "        if str(item).__contains__(i):\n",
    "            empList.append(item)\n",
    "    return empList"
   ]
  },
  {
   "cell_type": "code",
   "execution_count": 68,
   "id": "245b4a41",
   "metadata": {},
   "outputs": [
    {
     "name": "stdout",
     "output_type": "stream",
     "text": [
      "8398\n",
      "<class 'list'>\n"
     ]
    }
   ],
   "source": []
  },
  {
   "cell_type": "code",
   "execution_count": 82,
   "id": "73f96ba4",
   "metadata": {},
   "outputs": [
    {
     "data": {
      "text/plain": [
       "['درسها',\n",
       " 'سرشار',\n",
       " 'سرشان',\n",
       " 'سرطان',\n",
       " 'سرهای',\n",
       " 'سریعا',\n",
       " 'سريعا',\n",
       " 'سردار',\n",
       " 'سروان',\n",
       " 'سروپا',\n",
       " 'سریان']"
      ]
     },
     "execution_count": 82,
     "metadata": {},
     "output_type": "execute_result"
    }
   ],
   "source": [
    "\n",
    "#deduplicated_list=replacer(deduplicated_list,2,\"ب\")\n",
    "deduplicated_list=appender(deduplicated_list,\"ا\")\n",
    "deduplicated_list=appender(deduplicated_list,\"ر\")\n",
    "deduplicated_list=appender(deduplicated_list,\"س\")\n",
    "deduplicated_list=remover(deduplicated_list,\"ل\")\n",
    "deduplicated_list=remover(deduplicated_list,\"ب\")\n",
    "deduplicated_list=remover(deduplicated_list,\"ز\")\n",
    "deduplicated_list=remover(deduplicated_list,\"م\")\n",
    "deduplicated_list=remover(deduplicated_list,\"ک\")\n",
    "deduplicated_list=remover(deduplicated_list,\"ح\")\n",
    "deduplicated_list=remover(deduplicated_list,\"ت\")\n",
    "deduplicated_list=noReplacer(deduplicated_list,0,\"ا\")\n",
    "deduplicated_list=noReplacer(deduplicated_list,1,\"ا\")\n",
    "deduplicated_list=noReplacer(deduplicated_list,3,\"ر\")\n",
    "deduplicated_list=noReplacer(deduplicated_list,4,\"س\")\n",
    "deduplicated_list=noReplacer(deduplicated_list,2,\"ا\")\n",
    "\n",
    "deduplicated_list=replacer(deduplicated_list,1,\"ر\")\n",
    "deduplicated_list\n"
   ]
  }
 ],
 "metadata": {
  "kernelspec": {
   "display_name": "Python 3 (ipykernel)",
   "language": "python",
   "name": "python3"
  },
  "language_info": {
   "codemirror_mode": {
    "name": "ipython",
    "version": 3
   },
   "file_extension": ".py",
   "mimetype": "text/x-python",
   "name": "python",
   "nbconvert_exporter": "python",
   "pygments_lexer": "ipython3",
   "version": "3.10.1"
  }
 },
 "nbformat": 4,
 "nbformat_minor": 5
}
