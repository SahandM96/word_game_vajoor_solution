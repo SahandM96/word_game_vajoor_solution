{
 "cells": [
  {
   "cell_type": "code",
   "execution_count": 16,
   "id": "0438df9d",
   "metadata": {},
   "outputs": [
    {
     "name": "stderr",
     "output_type": "stream",
     "text": [
      "UsageError: Line magic function `%matplotlib.pyplot` not found.\n"
     ]
    }
   ],
   "source": [
    "import pandas as pd\n",
    "import numpy as np\n",
    "import matplotlib.pyplot as plt\n",
    "words = open(\"dirty_words.txt\",\"r+\")\n",
    "words_dirt = []\n",
    "for item in words.readlines():\n",
    "    words_dirt.append(str(item).strip())\n",
    "lenF=[]\n",
    "for word in words_dirt:\n",
    "    if(len(word)==5):\n",
    "        lenF.append(word)\n",
    "len(lenF)\n"
   ]
  }
 ],
 "metadata": {
  "kernelspec": {
   "display_name": "Python 3 (ipykernel)",
   "language": "python",
   "name": "python3"
  },
  "language_info": {
   "codemirror_mode": {
    "name": "ipython",
    "version": 3
   },
   "file_extension": ".py",
   "mimetype": "text/x-python",
   "name": "python",
   "nbconvert_exporter": "python",
   "pygments_lexer": "ipython3",
   "version": "3.10.1"
  }
 },
 "nbformat": 4,
 "nbformat_minor": 5
}
