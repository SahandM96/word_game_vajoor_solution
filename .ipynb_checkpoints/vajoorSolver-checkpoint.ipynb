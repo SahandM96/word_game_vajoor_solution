{
 "cells": [
  {
   "cell_type": "markdown",
   "id": "ac69e33b",
   "metadata": {},
   "source": [
    "# حل بازی واجور"
   ]
  },
  {
   "cell_type": "code",
   "execution_count": 172,
   "id": "13d6b67a",
   "metadata": {},
   "outputs": [],
   "source": [
    "words = open(\"dirty_words.txt\",\"r+\")\n",
    "words_dirt = []\n",
    "for item in words.readlines():\n",
    "    words_dirt.append(str(item).strip())\n",
    "lenF=[]\n",
    "for word in words_dirt:\n",
    "    word=str(word).strip()\n",
    "    if(word).__contains__(\"\\u200f\"):\n",
    "        continue\n",
    "    if(len(word)==5):\n",
    "        lenF.append(word)\n",
    "len(lenF)\n",
    "duplicated_list = lenF\n",
    "deduplicated_list = list()\n",
    "\n",
    "for item in duplicated_list:\n",
    "    if item not in deduplicated_list:\n",
    "        deduplicated_list.append(item)\n",
    "len(deduplicated_list)\n",
    "\n",
    "def replacer(lister,i,j):\n",
    "    empList=[]\n",
    "    for item in lister:\n",
    "        if item[i]==j:\n",
    "            empList.append(item)\n",
    "    return empList\n",
    "def remover(lister,i):\n",
    "    empList=[]\n",
    "    for item in lister:\n",
    "        if not str(item).__contains__(i):\n",
    "            empList.append(item)\n",
    "    return empList\n",
    "def appender(lister,i):\n",
    "    empList=[]\n",
    "    for item in lister:\n",
    "        if str(item).__contains__(i):\n",
    "            empList.append(item)\n",
    "    return empList"
   ]
  },
  {
   "cell_type": "code",
   "execution_count": 173,
   "id": "73f96ba4",
   "metadata": {},
   "outputs": [
    {
     "data": {
      "text/plain": [
       "['جاوید', 'ادوین', 'ادویه', 'دعوای', 'دیوار', 'دیوان', 'داوری']"
      ]
     },
     "execution_count": 173,
     "metadata": {},
     "output_type": "execute_result"
    }
   ],
   "source": [
    "deduplicated_list=replacer(deduplicated_list,2,\"و\")\n",
    "deduplicated_list=appender(deduplicated_list,\"د\")\n",
    "deduplicated_list=appender(deduplicated_list,\"ا\")\n",
    "deduplicated_list=appender(deduplicated_list,\"ی\")\n",
    "deduplicated_list=remover(deduplicated_list,\"م\")\n",
    "deduplicated_list=remover(deduplicated_list,\"ح\")\n",
    "\n",
    "deduplicated_list\n"
   ]
  }
 ],
 "metadata": {
  "kernelspec": {
   "display_name": "Python 3 (ipykernel)",
   "language": "python",
   "name": "python3"
  },
  "language_info": {
   "codemirror_mode": {
    "name": "ipython",
    "version": 3
   },
   "file_extension": ".py",
   "mimetype": "text/x-python",
   "name": "python",
   "nbconvert_exporter": "python",
   "pygments_lexer": "ipython3",
   "version": "3.10.1"
  }
 },
 "nbformat": 4,
 "nbformat_minor": 5
}
